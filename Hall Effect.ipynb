{
 "cells": [
  {
   "cell_type": "markdown",
   "metadata": {},
   "source": [
    "# The Hall Effect"
   ]
  },
  {
   "cell_type": "code",
   "execution_count": 1,
   "metadata": {},
   "outputs": [],
   "source": [
    "import numpy as np\n",
    "import matplotlib.pyplot as plt\n",
    "from matplotlib import gridspec\n",
    "from sklearn.linear_model import LinearRegression\n",
    "from scipy import optimize\n",
    "import pandas as pd"
   ]
  },
  {
   "cell_type": "code",
   "execution_count": 2,
   "metadata": {},
   "outputs": [],
   "source": [
    "data = pd.read_csv(\"MagneticCurrent.csv\")\n",
    "data2 = pd.read_csv(\"mc.csv\")"
   ]
  },
  {
   "cell_type": "code",
   "execution_count": 3,
   "metadata": {
    "scrolled": true
   },
   "outputs": [
    {
     "data": {
      "text/html": [
       "<div>\n",
       "<style scoped>\n",
       "    .dataframe tbody tr th:only-of-type {\n",
       "        vertical-align: middle;\n",
       "    }\n",
       "\n",
       "    .dataframe tbody tr th {\n",
       "        vertical-align: top;\n",
       "    }\n",
       "\n",
       "    .dataframe thead th {\n",
       "        text-align: right;\n",
       "    }\n",
       "</style>\n",
       "<table border=\"1\" class=\"dataframe\">\n",
       "  <thead>\n",
       "    <tr style=\"text-align: right;\">\n",
       "      <th></th>\n",
       "      <th>magnet current</th>\n",
       "      <th>hall voltage</th>\n",
       "      <th>B field</th>\n",
       "    </tr>\n",
       "  </thead>\n",
       "  <tbody>\n",
       "    <tr>\n",
       "      <th>0</th>\n",
       "      <td>0.05</td>\n",
       "      <td>-37.5900</td>\n",
       "      <td>0.01120</td>\n",
       "    </tr>\n",
       "    <tr>\n",
       "      <th>1</th>\n",
       "      <td>0.10</td>\n",
       "      <td>-35.5280</td>\n",
       "      <td>0.02240</td>\n",
       "    </tr>\n",
       "    <tr>\n",
       "      <th>2</th>\n",
       "      <td>0.15</td>\n",
       "      <td>-33.6760</td>\n",
       "      <td>0.03360</td>\n",
       "    </tr>\n",
       "    <tr>\n",
       "      <th>3</th>\n",
       "      <td>0.20</td>\n",
       "      <td>-31.9170</td>\n",
       "      <td>0.04480</td>\n",
       "    </tr>\n",
       "    <tr>\n",
       "      <th>4</th>\n",
       "      <td>0.25</td>\n",
       "      <td>-30.1200</td>\n",
       "      <td>0.05600</td>\n",
       "    </tr>\n",
       "    <tr>\n",
       "      <th>5</th>\n",
       "      <td>0.30</td>\n",
       "      <td>-28.2000</td>\n",
       "      <td>0.06720</td>\n",
       "    </tr>\n",
       "    <tr>\n",
       "      <th>6</th>\n",
       "      <td>0.35</td>\n",
       "      <td>-26.2000</td>\n",
       "      <td>0.07840</td>\n",
       "    </tr>\n",
       "    <tr>\n",
       "      <th>7</th>\n",
       "      <td>0.40</td>\n",
       "      <td>-24.4740</td>\n",
       "      <td>0.08960</td>\n",
       "    </tr>\n",
       "    <tr>\n",
       "      <th>8</th>\n",
       "      <td>0.45</td>\n",
       "      <td>-22.4200</td>\n",
       "      <td>0.10080</td>\n",
       "    </tr>\n",
       "    <tr>\n",
       "      <th>9</th>\n",
       "      <td>0.50</td>\n",
       "      <td>-20.5820</td>\n",
       "      <td>0.11200</td>\n",
       "    </tr>\n",
       "    <tr>\n",
       "      <th>10</th>\n",
       "      <td>0.55</td>\n",
       "      <td>-18.5450</td>\n",
       "      <td>0.12320</td>\n",
       "    </tr>\n",
       "    <tr>\n",
       "      <th>11</th>\n",
       "      <td>0.60</td>\n",
       "      <td>-16.8360</td>\n",
       "      <td>0.13440</td>\n",
       "    </tr>\n",
       "    <tr>\n",
       "      <th>12</th>\n",
       "      <td>0.65</td>\n",
       "      <td>-14.9580</td>\n",
       "      <td>0.14560</td>\n",
       "    </tr>\n",
       "    <tr>\n",
       "      <th>13</th>\n",
       "      <td>0.70</td>\n",
       "      <td>-12.9040</td>\n",
       "      <td>0.15680</td>\n",
       "    </tr>\n",
       "    <tr>\n",
       "      <th>14</th>\n",
       "      <td>0.75</td>\n",
       "      <td>-11.2170</td>\n",
       "      <td>0.16800</td>\n",
       "    </tr>\n",
       "    <tr>\n",
       "      <th>15</th>\n",
       "      <td>0.80</td>\n",
       "      <td>-9.2100</td>\n",
       "      <td>0.17920</td>\n",
       "    </tr>\n",
       "    <tr>\n",
       "      <th>16</th>\n",
       "      <td>0.85</td>\n",
       "      <td>-7.9180</td>\n",
       "      <td>0.19040</td>\n",
       "    </tr>\n",
       "    <tr>\n",
       "      <th>17</th>\n",
       "      <td>0.90</td>\n",
       "      <td>-6.1210</td>\n",
       "      <td>0.20160</td>\n",
       "    </tr>\n",
       "    <tr>\n",
       "      <th>18</th>\n",
       "      <td>0.95</td>\n",
       "      <td>-4.3410</td>\n",
       "      <td>0.21280</td>\n",
       "    </tr>\n",
       "    <tr>\n",
       "      <th>19</th>\n",
       "      <td>1.00</td>\n",
       "      <td>-2.5890</td>\n",
       "      <td>0.22400</td>\n",
       "    </tr>\n",
       "    <tr>\n",
       "      <th>20</th>\n",
       "      <td>1.05</td>\n",
       "      <td>-1.0290</td>\n",
       "      <td>0.23520</td>\n",
       "    </tr>\n",
       "    <tr>\n",
       "      <th>21</th>\n",
       "      <td>1.10</td>\n",
       "      <td>0.6640</td>\n",
       "      <td>0.24640</td>\n",
       "    </tr>\n",
       "    <tr>\n",
       "      <th>22</th>\n",
       "      <td>1.15</td>\n",
       "      <td>2.1890</td>\n",
       "      <td>0.25760</td>\n",
       "    </tr>\n",
       "    <tr>\n",
       "      <th>23</th>\n",
       "      <td>1.20</td>\n",
       "      <td>3.5878</td>\n",
       "      <td>0.26880</td>\n",
       "    </tr>\n",
       "    <tr>\n",
       "      <th>24</th>\n",
       "      <td>1.24</td>\n",
       "      <td>4.7820</td>\n",
       "      <td>0.27776</td>\n",
       "    </tr>\n",
       "  </tbody>\n",
       "</table>\n",
       "</div>"
      ],
      "text/plain": [
       "    magnet current  hall voltage  B field\n",
       "0             0.05      -37.5900  0.01120\n",
       "1             0.10      -35.5280  0.02240\n",
       "2             0.15      -33.6760  0.03360\n",
       "3             0.20      -31.9170  0.04480\n",
       "4             0.25      -30.1200  0.05600\n",
       "5             0.30      -28.2000  0.06720\n",
       "6             0.35      -26.2000  0.07840\n",
       "7             0.40      -24.4740  0.08960\n",
       "8             0.45      -22.4200  0.10080\n",
       "9             0.50      -20.5820  0.11200\n",
       "10            0.55      -18.5450  0.12320\n",
       "11            0.60      -16.8360  0.13440\n",
       "12            0.65      -14.9580  0.14560\n",
       "13            0.70      -12.9040  0.15680\n",
       "14            0.75      -11.2170  0.16800\n",
       "15            0.80       -9.2100  0.17920\n",
       "16            0.85       -7.9180  0.19040\n",
       "17            0.90       -6.1210  0.20160\n",
       "18            0.95       -4.3410  0.21280\n",
       "19            1.00       -2.5890  0.22400\n",
       "20            1.05       -1.0290  0.23520\n",
       "21            1.10        0.6640  0.24640\n",
       "22            1.15        2.1890  0.25760\n",
       "23            1.20        3.5878  0.26880\n",
       "24            1.24        4.7820  0.27776"
      ]
     },
     "execution_count": 3,
     "metadata": {},
     "output_type": "execute_result"
    }
   ],
   "source": [
    "data"
   ]
  },
  {
   "cell_type": "code",
   "execution_count": 4,
   "metadata": {
    "scrolled": true
   },
   "outputs": [
    {
     "data": {
      "text/html": [
       "<div>\n",
       "<style scoped>\n",
       "    .dataframe tbody tr th:only-of-type {\n",
       "        vertical-align: middle;\n",
       "    }\n",
       "\n",
       "    .dataframe tbody tr th {\n",
       "        vertical-align: top;\n",
       "    }\n",
       "\n",
       "    .dataframe thead th {\n",
       "        text-align: right;\n",
       "    }\n",
       "</style>\n",
       "<table border=\"1\" class=\"dataframe\">\n",
       "  <thead>\n",
       "    <tr style=\"text-align: right;\">\n",
       "      <th></th>\n",
       "      <th>thermocouple K</th>\n",
       "      <th>thermocouple `C</th>\n",
       "      <th>Hall voltage</th>\n",
       "      <th>current applied to crystal</th>\n",
       "      <th>supply Voltage</th>\n",
       "      <th>Resistance</th>\n",
       "      <th>Crystal Voltage</th>\n",
       "    </tr>\n",
       "  </thead>\n",
       "  <tbody>\n",
       "    <tr>\n",
       "      <th>0</th>\n",
       "      <td>382.456</td>\n",
       "      <td>109.306</td>\n",
       "      <td>-19.520</td>\n",
       "      <td>4.1</td>\n",
       "      <td>1.230</td>\n",
       "      <td>0.246000</td>\n",
       "      <td>5.00</td>\n",
       "    </tr>\n",
       "    <tr>\n",
       "      <th>1</th>\n",
       "      <td>380.746</td>\n",
       "      <td>107.596</td>\n",
       "      <td>-18.782</td>\n",
       "      <td>4.0</td>\n",
       "      <td>1.450</td>\n",
       "      <td>0.295918</td>\n",
       "      <td>4.90</td>\n",
       "    </tr>\n",
       "    <tr>\n",
       "      <th>2</th>\n",
       "      <td>371.962</td>\n",
       "      <td>98.812</td>\n",
       "      <td>-21.935</td>\n",
       "      <td>3.8</td>\n",
       "      <td>1.570</td>\n",
       "      <td>0.334043</td>\n",
       "      <td>4.70</td>\n",
       "    </tr>\n",
       "    <tr>\n",
       "      <th>3</th>\n",
       "      <td>364.141</td>\n",
       "      <td>90.991</td>\n",
       "      <td>-25.356</td>\n",
       "      <td>3.6</td>\n",
       "      <td>1.705</td>\n",
       "      <td>0.378889</td>\n",
       "      <td>4.50</td>\n",
       "    </tr>\n",
       "    <tr>\n",
       "      <th>4</th>\n",
       "      <td>354.898</td>\n",
       "      <td>81.748</td>\n",
       "      <td>-27.490</td>\n",
       "      <td>3.4</td>\n",
       "      <td>2.440</td>\n",
       "      <td>0.567442</td>\n",
       "      <td>4.30</td>\n",
       "    </tr>\n",
       "    <tr>\n",
       "      <th>5</th>\n",
       "      <td>345.277</td>\n",
       "      <td>72.127</td>\n",
       "      <td>-27.446</td>\n",
       "      <td>3.2</td>\n",
       "      <td>2.970</td>\n",
       "      <td>0.724390</td>\n",
       "      <td>4.10</td>\n",
       "    </tr>\n",
       "    <tr>\n",
       "      <th>6</th>\n",
       "      <td>340.696</td>\n",
       "      <td>67.546</td>\n",
       "      <td>-24.915</td>\n",
       "      <td>3.0</td>\n",
       "      <td>3.720</td>\n",
       "      <td>0.930000</td>\n",
       "      <td>4.00</td>\n",
       "    </tr>\n",
       "    <tr>\n",
       "      <th>7</th>\n",
       "      <td>334.245</td>\n",
       "      <td>61.095</td>\n",
       "      <td>-21.579</td>\n",
       "      <td>2.8</td>\n",
       "      <td>4.875</td>\n",
       "      <td>1.282895</td>\n",
       "      <td>3.80</td>\n",
       "    </tr>\n",
       "    <tr>\n",
       "      <th>8</th>\n",
       "      <td>328.707</td>\n",
       "      <td>55.557</td>\n",
       "      <td>-17.776</td>\n",
       "      <td>2.6</td>\n",
       "      <td>4.921</td>\n",
       "      <td>1.892692</td>\n",
       "      <td>2.60</td>\n",
       "    </tr>\n",
       "    <tr>\n",
       "      <th>9</th>\n",
       "      <td>315.627</td>\n",
       "      <td>42.477</td>\n",
       "      <td>-9.240</td>\n",
       "      <td>2.4</td>\n",
       "      <td>5.204</td>\n",
       "      <td>2.159336</td>\n",
       "      <td>2.41</td>\n",
       "    </tr>\n",
       "    <tr>\n",
       "      <th>10</th>\n",
       "      <td>316.551</td>\n",
       "      <td>43.401</td>\n",
       "      <td>-9.717</td>\n",
       "      <td>2.2</td>\n",
       "      <td>5.243</td>\n",
       "      <td>2.383182</td>\n",
       "      <td>2.20</td>\n",
       "    </tr>\n",
       "    <tr>\n",
       "      <th>11</th>\n",
       "      <td>311.191</td>\n",
       "      <td>38.041</td>\n",
       "      <td>-6.710</td>\n",
       "      <td>2.0</td>\n",
       "      <td>5.040</td>\n",
       "      <td>2.290909</td>\n",
       "      <td>2.20</td>\n",
       "    </tr>\n",
       "    <tr>\n",
       "      <th>12</th>\n",
       "      <td>305.711</td>\n",
       "      <td>32.561</td>\n",
       "      <td>-4.076</td>\n",
       "      <td>1.8</td>\n",
       "      <td>4.852</td>\n",
       "      <td>2.310476</td>\n",
       "      <td>2.10</td>\n",
       "    </tr>\n",
       "    <tr>\n",
       "      <th>13</th>\n",
       "      <td>301.409</td>\n",
       "      <td>28.259</td>\n",
       "      <td>-2.307</td>\n",
       "      <td>1.6</td>\n",
       "      <td>4.715</td>\n",
       "      <td>2.481579</td>\n",
       "      <td>1.90</td>\n",
       "    </tr>\n",
       "    <tr>\n",
       "      <th>14</th>\n",
       "      <td>297.733</td>\n",
       "      <td>24.583</td>\n",
       "      <td>-0.660</td>\n",
       "      <td>1.4</td>\n",
       "      <td>4.486</td>\n",
       "      <td>2.492222</td>\n",
       "      <td>1.80</td>\n",
       "    </tr>\n",
       "    <tr>\n",
       "      <th>15</th>\n",
       "      <td>294.548</td>\n",
       "      <td>21.398</td>\n",
       "      <td>0.481</td>\n",
       "      <td>1.2</td>\n",
       "      <td>4.306</td>\n",
       "      <td>2.691250</td>\n",
       "      <td>1.60</td>\n",
       "    </tr>\n",
       "    <tr>\n",
       "      <th>16</th>\n",
       "      <td>292.837</td>\n",
       "      <td>19.687</td>\n",
       "      <td>1.062</td>\n",
       "      <td>1.0</td>\n",
       "      <td>4.110</td>\n",
       "      <td>2.740000</td>\n",
       "      <td>1.50</td>\n",
       "    </tr>\n",
       "    <tr>\n",
       "      <th>17</th>\n",
       "      <td>291.019</td>\n",
       "      <td>17.869</td>\n",
       "      <td>1.634</td>\n",
       "      <td>0.8</td>\n",
       "      <td>4.081</td>\n",
       "      <td>4.081000</td>\n",
       "      <td>1.00</td>\n",
       "    </tr>\n",
       "    <tr>\n",
       "      <th>18</th>\n",
       "      <td>288.644</td>\n",
       "      <td>15.494</td>\n",
       "      <td>2.379</td>\n",
       "      <td>0.6</td>\n",
       "      <td>3.900</td>\n",
       "      <td>7.800000</td>\n",
       "      <td>0.50</td>\n",
       "    </tr>\n",
       "    <tr>\n",
       "      <th>19</th>\n",
       "      <td>287.012</td>\n",
       "      <td>13.862</td>\n",
       "      <td>2.772</td>\n",
       "      <td>0.4</td>\n",
       "      <td>3.849</td>\n",
       "      <td>19.245000</td>\n",
       "      <td>0.20</td>\n",
       "    </tr>\n",
       "  </tbody>\n",
       "</table>\n",
       "</div>"
      ],
      "text/plain": [
       "    thermocouple K  thermocouple `C  Hall voltage  current applied to crystal  \\\n",
       "0          382.456          109.306       -19.520                         4.1   \n",
       "1          380.746          107.596       -18.782                         4.0   \n",
       "2          371.962           98.812       -21.935                         3.8   \n",
       "3          364.141           90.991       -25.356                         3.6   \n",
       "4          354.898           81.748       -27.490                         3.4   \n",
       "5          345.277           72.127       -27.446                         3.2   \n",
       "6          340.696           67.546       -24.915                         3.0   \n",
       "7          334.245           61.095       -21.579                         2.8   \n",
       "8          328.707           55.557       -17.776                         2.6   \n",
       "9          315.627           42.477        -9.240                         2.4   \n",
       "10         316.551           43.401        -9.717                         2.2   \n",
       "11         311.191           38.041        -6.710                         2.0   \n",
       "12         305.711           32.561        -4.076                         1.8   \n",
       "13         301.409           28.259        -2.307                         1.6   \n",
       "14         297.733           24.583        -0.660                         1.4   \n",
       "15         294.548           21.398         0.481                         1.2   \n",
       "16         292.837           19.687         1.062                         1.0   \n",
       "17         291.019           17.869         1.634                         0.8   \n",
       "18         288.644           15.494         2.379                         0.6   \n",
       "19         287.012           13.862         2.772                         0.4   \n",
       "\n",
       "    supply Voltage  Resistance  Crystal Voltage  \n",
       "0            1.230    0.246000             5.00  \n",
       "1            1.450    0.295918             4.90  \n",
       "2            1.570    0.334043             4.70  \n",
       "3            1.705    0.378889             4.50  \n",
       "4            2.440    0.567442             4.30  \n",
       "5            2.970    0.724390             4.10  \n",
       "6            3.720    0.930000             4.00  \n",
       "7            4.875    1.282895             3.80  \n",
       "8            4.921    1.892692             2.60  \n",
       "9            5.204    2.159336             2.41  \n",
       "10           5.243    2.383182             2.20  \n",
       "11           5.040    2.290909             2.20  \n",
       "12           4.852    2.310476             2.10  \n",
       "13           4.715    2.481579             1.90  \n",
       "14           4.486    2.492222             1.80  \n",
       "15           4.306    2.691250             1.60  \n",
       "16           4.110    2.740000             1.50  \n",
       "17           4.081    4.081000             1.00  \n",
       "18           3.900    7.800000             0.50  \n",
       "19           3.849   19.245000             0.20  "
      ]
     },
     "execution_count": 4,
     "metadata": {},
     "output_type": "execute_result"
    }
   ],
   "source": [
    "data2"
   ]
  },
  {
   "cell_type": "code",
   "execution_count": 5,
   "metadata": {},
   "outputs": [
    {
     "data": {
      "text/plain": [
       "0     1.008600\n",
       "1     1.183673\n",
       "2     1.269362\n",
       "3     1.364000\n",
       "4     1.929302\n",
       "5     2.318049\n",
       "6     2.790000\n",
       "7     3.592105\n",
       "8     4.921000\n",
       "9     5.182407\n",
       "10    5.243000\n",
       "11    4.581818\n",
       "12    4.158857\n",
       "13    3.970526\n",
       "14    3.489111\n",
       "15    3.229500\n",
       "16    2.740000\n",
       "17    3.264800\n",
       "18    4.680000\n",
       "19    7.698000\n",
       "dtype: float64"
      ]
     },
     "execution_count": 5,
     "metadata": {},
     "output_type": "execute_result"
    }
   ],
   "source": [
    "o = data2['Resistance'] * data2['current applied to crystal']\n",
    "o"
   ]
  },
  {
   "cell_type": "markdown",
   "metadata": {},
   "source": [
    "## Define Function to be optimized"
   ]
  },
  {
   "cell_type": "code",
   "execution_count": 6,
   "metadata": {},
   "outputs": [],
   "source": [
    "def test_func(x, a, b):\n",
    "    return (a*x)+b"
   ]
  },
  {
   "cell_type": "markdown",
   "metadata": {},
   "source": [
    "## Optimize the functions, and plot"
   ]
  },
  {
   "cell_type": "code",
   "execution_count": 7,
   "metadata": {},
   "outputs": [
    {
     "data": {
      "text/plain": [
       "Text(0.5,1,'Voltage vs Magnet Current')"
      ]
     },
     "execution_count": 7,
     "metadata": {},
     "output_type": "execute_result"
    },
    {
     "data": {
      "image/png": "[encoded data removed]",
      "text/plain": [
       "<Figure size 432x216 with 1 Axes>"
      ]
     },
     "metadata": {},
     "output_type": "display_data"
    }
   ],
   "source": [
    "%matplotlib inline\n",
    "fig = plt.figure(0, figsize=(6, 3))\n",
    "x = data['magnet current']\n",
    "y = data['hall voltage']\n",
    "params1, params_covariance = optimize.curve_fit(test_func, x, y)\n",
    "gs = gridspec.GridSpec(5, 4)\n",
    "ax1 = plt.subplot(gs[0:, 0:])\n",
    "p1 = test_func(x, *params1)\n",
    "ax1.scatter(x, y)\n",
    "ax1.plot(x, p1, label =  \"{:.2f}\".format(params1[0])+'x' + \"{:.2f}\".format(params1[1]))\n",
    "ax1.legend(loc='lower right')\n",
    "ax1.margins(0)\n",
    "plt.ylabel(\"Hall Voltage (mV)\")\n",
    "plt.xlabel(\"Magnet Current\")\n",
    "plt.title(\"Voltage vs Magnet Current\")\n"
   ]
  },
  {
   "cell_type": "code",
   "execution_count": 8,
   "metadata": {},
   "outputs": [
    {
     "data": {
      "text/plain": [
       "0.014404855091171115"
      ]
     },
     "execution_count": 8,
     "metadata": {},
     "output_type": "execute_result"
    }
   ],
   "source": [
    "R = (((params1[0]) * 1e-3)/2.5)\n",
    "R"
   ]
  },
  {
   "cell_type": "code",
   "execution_count": 9,
   "metadata": {},
   "outputs": [
    {
     "data": {
      "text/plain": [
       "3.967632725525895"
      ]
     },
     "execution_count": 9,
     "metadata": {},
     "output_type": "execute_result"
    }
   ],
   "source": [
    "((1.5e-2-R)/1.5e-2)*100"
   ]
  },
  {
   "cell_type": "code",
   "execution_count": 10,
   "metadata": {},
   "outputs": [
    {
     "data": {
      "text/plain": [
       "Text(0.5,1,'Temperature vs Hall Voltage')"
      ]
     },
     "execution_count": 10,
     "metadata": {},
     "output_type": "execute_result"
    },
    {
     "data": {
      "image/png": "[encoded data removed]",
      "text/plain": [
       "<Figure size 432x216 with 1 Axes>"
      ]
     },
     "metadata": {},
     "output_type": "display_data"
    }
   ],
   "source": [
    "%matplotlib inline\n",
    "fig = plt.figure(0, figsize=(6, 3))\n",
    "x = data2['thermocouple K'].values\n",
    "y = data2['Hall voltage'].values\n",
    "ax1 = plt.subplot(gs[0:, 0:])\n",
    "ax1.scatter(x, y)\n",
    "#ax1.legend(loc='upper right')\n",
    "ax1.margins(0)\n",
    "plt.ylabel(\"Hall Voltage\")\n",
    "plt.xlabel(\"Temperature K\")\n",
    "plt.title(\"Temperature vs Hall Voltage\")"
   ]
  },
  {
   "cell_type": "code",
   "execution_count": 11,
   "metadata": {},
   "outputs": [
    {
     "data": {
      "text/plain": [
       "Text(0.5,1,'Temperature vs Resistance')"
      ]
     },
     "execution_count": 11,
     "metadata": {},
     "output_type": "execute_result"
    },
    {
     "data": {
      "image/png": "[encoded data removed]",
      "text/plain": [
       "<Figure size 432x216 with 1 Axes>"
      ]
     },
     "metadata": {},
     "output_type": "display_data"
    }
   ],
   "source": [
    "%matplotlib inline\n",
    "fig = plt.figure(0, figsize=(6, 3))\n",
    "x = data2['thermocouple K'].values\n",
    "y = data2['Resistance'].values\n",
    "ax1 = plt.subplot(gs[0:, 0:])\n",
    "ax1.scatter(x, y)\n",
    "#ax1.legend(loc='upper right')\n",
    "ax1.margins(0)\n",
    "plt.ylabel(\"Resitance (Ohms)\")\n",
    "plt.xlabel(\"Temperature K\")\n",
    "plt.title(\"Temperature vs Resistance\")"
   ]
  },
  {
   "cell_type": "code",
   "execution_count": 12,
   "metadata": {
    "scrolled": false
   },
   "outputs": [
    {
     "data": {
      "text/plain": [
       "Text(0.5,1,'Inverse Temperature vs Ln(1/Resistance)')"
      ]
     },
     "execution_count": 12,
     "metadata": {},
     "output_type": "execute_result"
    },
    {
     "data": {
      "image/png": "[encoded data removed]",
      "text/plain": [
       "<Figure size 432x216 with 1 Axes>"
      ]
     },
     "metadata": {},
     "output_type": "display_data"
    }
   ],
   "source": [
    "%matplotlib inline\n",
    "fig = plt.figure(1, figsize=(6, 3))\n",
    "x = 1/data2['thermocouple K'].values\n",
    "y = np.log(1/data2['Resistance'].values)\n",
    "params1, params_covariance = optimize.curve_fit(test_func, x, y)\n",
    "p1 = test_func(x, *params1)\n",
    "ax1 = plt.subplot(gs[0:, 0:])\n",
    "\n",
    "ax1.plot(x, p1, label =  \"{:.2f}\".format(params1[0])+'*(x) + ' + \"{:.2f}\".format(params1[1]))\n",
    "ax1.scatter(x, y)\n",
    "ax1.legend(loc='upper right')\n",
    "ax1.margins(0)\n",
    "plt.ylabel(\"Ln(1/Resitance)\")\n",
    "plt.xlabel(\"(1/Temperature) 1/K\")\n",
    "plt.title(\"Inverse Temperature vs Ln(1/Resistance)\")"
   ]
  },
  {
   "cell_type": "markdown",
   "metadata": {},
   "source": [
    "## Boltzman Constant"
   ]
  },
  {
   "cell_type": "code",
   "execution_count": 13,
   "metadata": {},
   "outputs": [],
   "source": [
    "k = 1.38064852 *1e-23"
   ]
  },
  {
   "cell_type": "markdown",
   "metadata": {},
   "source": [
    "## Energy Gap energy in electron volts"
   ]
  },
  {
   "cell_type": "code",
   "execution_count": 14,
   "metadata": {},
   "outputs": [
    {
     "data": {
      "text/plain": [
       "0.6170243607138158"
      ]
     },
     "execution_count": 14,
     "metadata": {},
     "output_type": "execute_result"
    }
   ],
   "source": [
    "E = -params1[0]*(2*k) * 6.242e+18\n",
    "E"
   ]
  },
  {
   "cell_type": "code",
   "execution_count": 15,
   "metadata": {},
   "outputs": [
    {
     "data": {
      "text/plain": [
       "0.47994182035228417"
      ]
     },
     "execution_count": 15,
     "metadata": {},
     "output_type": "execute_result"
    }
   ],
   "source": [
    "((0.62-E)/0.62)*100"
   ]
  },
  {
   "cell_type": "code",
   "execution_count": null,
   "metadata": {},
   "outputs": [],
   "source": []
  }
 ],
 "metadata": {
  "kernelspec": {
   "display_name": "Python 2",
   "language": "python",
   "name": "python2"
  },
  "language_info": {
   "codemirror_mode": {
    "name": "ipython",
    "version": 2
   },
   "file_extension": ".py",
   "mimetype": "text/x-python",
   "name": "python",
   "nbconvert_exporter": "python",
   "pygments_lexer": "ipython2",
   "version": "2.7.10"
  }
 },
 "nbformat": 4,
 "nbformat_minor": 2
}
