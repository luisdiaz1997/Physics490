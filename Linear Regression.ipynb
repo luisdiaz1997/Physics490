{
 "cells": [
  {
   "cell_type": "markdown",
   "metadata": {},
   "source": [
    "# This is to open the file and store X and Y"
   ]
  },
  {
   "cell_type": "code",
   "execution_count": 1,
   "metadata": {},
   "outputs": [
    {
     "name": "stdout",
     "output_type": "stream",
     "text": [
      "Va \tI \tLN(I)\n",
      "0.59 0.000051 -9.88368492524\n",
      "0.61 0.000104 -9.17111965882\n",
      "0.62 0.000157 -8.75926475262\n",
      "0.63 0.000208 -8.47797247826\n",
      "0.63 0.000251 -8.29005761883\n",
      "0.63 0.000309 -8.08216928107\n",
      "0.63 0.00035 -7.95757740348\n",
      "0.64 0.000408 -7.80424338356\n",
      "0.64 0.000454 -7.69741335992\n",
      "0.64 0.000508 -7.58502911039\n",
      "0.64 0.000557 -7.49294531804\n",
      "0.64 0.000607 -7.4069817669\n",
      "0.64 0.000652 -7.33546599604\n",
      "0.65 0.000704 -7.25873220181\n",
      "0.65 0.00075 -7.19543735143\n",
      "0.65 0.0008 -7.1308988303\n",
      "0.66 0.00085 -7.07027420848\n",
      "0.66 0.0009 -7.01311579464\n",
      "0.66 0.00095 -6.95904857337\n",
      "0.66 0.001 -6.90775527898\n",
      "0.66 0.00105 -6.85896511481\n",
      "0.66 0.0011 -6.81244509918\n",
      "0.67 0.00115 -6.76799333661\n",
      "0.67 0.0012 -6.72543372219\n"
     ]
    }
   ],
   "source": [
    "import re\n",
    "import math\n",
    "fl = open('phys490_dat.txt', 'r')\n",
    "x = list()\n",
    "y = list()\n",
    "x2 = list()\n",
    "print 'Va', '\\tI', '\\tLN(I)'\n",
    "for line in fl:\n",
    "    numbers = re.findall('([0-9]+\\.*[0-9]*)', line)\n",
    "    x.append([1, float(numbers[0])])\n",
    "    print numbers[0], numbers[1], math.log(float(numbers[1]))\n",
    "    y.append(math.log(float(numbers[1])))\n",
    "    x2.append(float(numbers[0]))\n",
    "    "
   ]
  },
  {
   "cell_type": "markdown",
   "metadata": {},
   "source": [
    "## This is to modify the data, equation, etc"
   ]
  },
  {
   "cell_type": "code",
   "execution_count": 2,
   "metadata": {},
   "outputs": [],
   "source": [
    "y_test = list()\n",
    "for num in y:\n",
    "    y_test.append(num)"
   ]
  },
  {
   "cell_type": "code",
   "execution_count": 4,
   "metadata": {},
   "outputs": [
    {
     "name": "stdout",
     "output_type": "stream",
     "text": [
      "m= 41.456446519444164\n",
      "b= -34.263208098332804\n",
      "mx + b = 41.456446519444164x + -34.263208098332804\n"
     ]
    },
    {
     "data": {
      "image/png": "[encoded data removed]",
      "text/plain": [
       "<Figure size 432x288 with 1 Axes>"
      ]
     },
     "metadata": {},
     "output_type": "display_data"
    }
   ],
   "source": [
    "import matplotlib.pyplot as plt\n",
    "import numpy as np\n",
    "from sklearn.linear_model import LinearRegression\n",
    "\n",
    "lin_reg = LinearRegression()\n",
    "lin_reg.fit(x, y_test)\n",
    "y_predicted = lin_reg.predict(x)\n",
    "m = (y_predicted[-1]-y_predicted[0])/(x2[-1]-x2[0])\n",
    "b = y_predicted[0]- (m*x2[0])\n",
    "print \"m=\", m\n",
    "print \"b=\", b\n",
    "print \"mx + b = \"+str(m) + \"x + \" + str(b)\n",
    "plt.scatter(x2, y_test,  color='black')\n",
    "plt.plot(x2, y_predicted, color='blue', linewidth=3)\n",
    "plt.xlabel('Voltage')\n",
    "plt.ylabel('Ln(I)')\n",
    "plt.show()"
   ]
  },
  {
   "cell_type": "code",
   "execution_count": null,
   "metadata": {},
   "outputs": [],
   "source": []
  }
 ],
 "metadata": {
  "kernelspec": {
   "display_name": "Python 2",
   "language": "python",
   "name": "python2"
  },
  "language_info": {
   "codemirror_mode": {
    "name": "ipython",
    "version": 2
   },
   "file_extension": ".py",
   "mimetype": "text/x-python",
   "name": "python",
   "nbconvert_exporter": "python",
   "pygments_lexer": "ipython2",
   "version": "2.7.10"
  }
 },
 "nbformat": 4,
 "nbformat_minor": 2
}
